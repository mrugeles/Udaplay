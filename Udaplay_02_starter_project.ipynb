{
 "cells": [
  {
   "cell_type": "markdown",
   "id": "6fdd0bcb",
   "metadata": {},
   "source": [
    "# [STARTER] Udaplay Project"
   ]
  },
  {
   "cell_type": "markdown",
   "id": "9325b035",
   "metadata": {},
   "source": [
    "## Part 02 - Agent\n",
    "\n",
    "In this part of the project, you'll use your VectorDB to be part of your Agent as a tool.\n",
    "\n",
    "You're building UdaPlay, an AI Research Agent for the video game industry. The agent will:\n",
    "1. Answer questions using internal knowledge (RAG)\n",
    "2. Search the web when needed\n",
    "3. Maintain conversation state\n",
    "4. Return structured outputs\n",
    "5. Store useful information for future use"
   ]
  },
  {
   "cell_type": "markdown",
   "id": "2b42de90",
   "metadata": {},
   "source": [
    "### Setup"
   ]
  },
  {
   "cell_type": "code",
   "execution_count": 2,
   "id": "a963d4ca",
   "metadata": {},
   "outputs": [
    {
     "data": {
      "text/plain": [
       "'\\nimport importlib.util\\nimport sys\\n\\n# Check if \\'pysqlite3\\' is available before importing\\nif importlib.util.find_spec(\"pysqlite3\") is not None:\\n    import pysqlite3\\n    sys.modules[\\'sqlite3\\'] = sys.modules.pop(\\'pysqlite3\\')\\n'"
      ]
     },
     "execution_count": 2,
     "metadata": {},
     "output_type": "execute_result"
    }
   ],
   "source": [
    "# Only needed for Udacity workspace\n",
    "\"\"\"\n",
    "import importlib.util\n",
    "import sys\n",
    "\n",
    "# Check if 'pysqlite3' is available before importing\n",
    "if importlib.util.find_spec(\"pysqlite3\") is not None:\n",
    "    import pysqlite3\n",
    "    sys.modules['sqlite3'] = sys.modules.pop('pysqlite3')\n",
    "\"\"\""
   ]
  },
  {
   "cell_type": "code",
   "execution_count": 3,
   "id": "fd10c06e",
   "metadata": {},
   "outputs": [],
   "source": [
    "# TODO: Import the necessary libs\n",
    "# For example: \n",
    "import os\n",
    "\n",
    "from lib.agents import Agent\n",
    "from lib.rag import RAG\n",
    "from lib.llm import LLM\n",
    "from lib.messages import UserMessage, SystemMessage, ToolMessage, AIMessage, BaseMessage\n",
    "from lib.tooling import tool\n",
    "from dotenv import load_dotenv\n",
    "import chromadb\n",
    "from chromadb.utils import embedding_functions\n",
    "from lib.evaluation import TestCase, AgentEvaluator, EvaluationResult, EvaluationReport\n",
    "from typing import List, Dict\n",
    "from tavily import TavilyClient\n",
    "from lib.parsers import PydanticOutputParser\n",
    "from datetime import datetime"
   ]
  },
  {
   "cell_type": "code",
   "execution_count": 4,
   "id": "87e465d4",
   "metadata": {},
   "outputs": [],
   "source": [
    "# TODO: Load environment variables\n",
    "load_dotenv()\n",
    "\n",
    "OPENAI_API_KEY = os.getenv(\"OPENAI_API_KEY\")\n",
    "TAVILY_API_KEY = os.getenv(\"TAVILY_API_KEY\")"
   ]
  },
  {
   "cell_type": "code",
   "execution_count": 5,
   "id": "08ee9ccc-e702-4b40-98fd-b42049fcf711",
   "metadata": {},
   "outputs": [],
   "source": [
    "rag_llm = LLM(\n",
    "    model=\"gpt-4o-mini\",\n",
    "    temperature=0.3,\n",
    ")"
   ]
  },
  {
   "cell_type": "markdown",
   "id": "27de4729",
   "metadata": {},
   "source": [
    "### Tools"
   ]
  },
  {
   "cell_type": "markdown",
   "id": "46ab2dac",
   "metadata": {},
   "source": [
    "Build at least 3 tools:\n",
    "- retrieve_game: To search the vector DB\n",
    "- evaluate_retrieval: To assess the retrieval performance\n",
    "- game_web_search: If no good, search the web\n"
   ]
  },
  {
   "cell_type": "markdown",
   "id": "ce4f14cd",
   "metadata": {},
   "source": [
    "#### Retrieve Game Tool"
   ]
  },
  {
   "cell_type": "code",
   "execution_count": 6,
   "id": "b25c36dd",
   "metadata": {},
   "outputs": [
    {
     "name": "stderr",
     "output_type": "stream",
     "text": [
      "Failed to send telemetry event ClientStartEvent: capture() takes 1 positional argument but 3 were given\n"
     ]
    }
   ],
   "source": [
    "# TODO: Create retrieve_game tool\n",
    "# It should use chroma client and collection you created\n",
    "chroma_client = chromadb.PersistentClient(path=\"chromadb\")\n",
    "\n",
    "embedding_fn = embedding_functions.OpenAIEmbeddingFunction(\n",
    "    api_key=OPENAI_API_KEY,\n",
    "    api_base=\"https://openai.vocareum.com/v1\")\n",
    "\n",
    "collection = chroma_client.get_collection(\"udaplay\", embedding_function=embedding_fn)\n",
    "# Tool Docstring:\n",
    "#    Semantic search: Finds most results in the vector DB\n",
    "#    args:\n",
    "#    - query: a question about game industry. \n",
    "#\n",
    "#    You'll receive results as list. Each element contains:\n",
    "#    - Platform: like Game Boy, Playstation 5, Xbox 360...)\n",
    "#    - Name: Name of the Game\n",
    "#    - YearOfRelease: Year when that game was released for that platform\n",
    "#    - Description: Additional details about the game\n",
    "\n",
    "retrieve_game_rag = RAG(\n",
    "    llm=rag_llm,\n",
    "    vector_store = collection\n",
    ")\n",
    "@tool\n",
    "def retrieve_game(query):\n",
    "    \"\"\"\n",
    "    Semantic search: Finds most results in the vector DB\n",
    "    args:\n",
    "    - query: a question about game industry. \n",
    "    \"\"\"\n",
    "    result:Run = retrieve_game_rag.invoke(query)\n",
    "    return result.get_final_state()[\"answer\"]"
   ]
  },
  {
   "cell_type": "markdown",
   "id": "910dc945",
   "metadata": {},
   "source": [
    "#### Evaluate Retrieval Tool"
   ]
  },
  {
   "cell_type": "code",
   "execution_count": 7,
   "id": "0d9d014b",
   "metadata": {},
   "outputs": [],
   "source": [
    "# TODO: Create evaluate_retrieval tool\n",
    "# You might use an LLM as judge in this tool to evaluate the performance\n",
    "# You need to prompt that LLM with something like:\n",
    "# \"Your task is to evaluate if the documents are enough to respond the query. \"\n",
    "# \"Give a detailed explanation, so it's possible to take an action to accept it or not.\"\n",
    "# Use EvaluationReport to parse the result\n",
    "# Tool Docstring:\n",
    "#    Based on the user's question and on the list of retrieved documents, \n",
    "#    it will analyze the usability of the documents to respond to that question. \n",
    "#    args: \n",
    "#    - question: original question from user\n",
    "#    - retrieved_docs: retrieved documents most similar to the user query in the Vector Database\n",
    "#    The result includes:\n",
    "#    - useful: whether the documents are useful to answer the question\n",
    "#    - description: description about the evaluation result\n",
    "\n",
    "@tool\n",
    "def evaluate_retrieval(question: str, retrieved_docs: List[str]) -> EvaluationReport:\n",
    "    \"\"\"\n",
    "    Based on the user's question and on the list of retrieved documents, \n",
    "    it will analyze the usability of the documents to respond to that question. \n",
    "    args: \n",
    "    - question: original question from user\n",
    "    - retrieved_docs: retrieved documents most similar to the user query in the Vector Database\n",
    "    The result includes:\n",
    "    - useful: whether the documents are useful to answer the question\n",
    "    - description: description about the evaluation result\n",
    "    \"\"\"\n",
    "    llm_judge = LLM(model=\"gpt-4o-mini\")\n",
    "    docs_text = \"\\n\\n\".join(retrieved_docs) if retrieved_docs else \"No documents provided.\"\n",
    "    prompt = (\n",
    "        \"Your task is to evaluate if the documents are enough to respond the query.\\n\"\n",
    "        f\"Question: {question}\\n\"\n",
    "        f\"Documents:\\n{docs_text}\\n\"\n",
    "        \"Give a detailed explanation, so it's possible to take an action to accept it or not.\"\n",
    "    )\n",
    "\n",
    "    response = llm_judge.invoke(prompt, response_format=EvaluationReport)\n",
    "    parser = PydanticOutputParser(model_class=EvaluationReport)\n",
    "    try:\n",
    "        report = parser.parse(response)\n",
    "    except Exception as e:\n",
    "        report = EvaluationReport(useful=False, description=f\"Failed to parse judge response: {e}\")\n",
    "    return report"
   ]
  },
  {
   "cell_type": "markdown",
   "id": "c7935a26",
   "metadata": {},
   "source": [
    "#### Game Web Search Tool"
   ]
  },
  {
   "cell_type": "code",
   "execution_count": 8,
   "id": "2ad698aa",
   "metadata": {},
   "outputs": [],
   "source": [
    "# TODO: Create game_web_search tool\n",
    "# Please use Tavily client to search the web\n",
    "# Tool Docstring:\n",
    "#    Semantic search: Finds most results in the vector DB\n",
    "#    args:\n",
    "#    - question: a question about game industry. \n",
    "\n",
    "@tool\n",
    "def game_web_search(query: str) -> Dict:\n",
    "    \"\"\"\n",
    "    Search the web using Tavily API\n",
    "    args:\n",
    "        query (str): Search query\n",
    "    \"\"\"\n",
    "    client = TavilyClient(api_key=TAVILY_API_KEY)\n",
    "    \n",
    "    # Perform the search\n",
    "    search_result = client.search(\n",
    "        query=query,\n",
    "        include_answer=True,\n",
    "        include_raw_content=False,\n",
    "        include_images=False\n",
    "    )\n",
    "    \n",
    "    # Format the results\n",
    "    formatted_results = {\n",
    "        \"answer\": search_result.get(\"answer\", \"\"),\n",
    "        \"results\": search_result.get(\"results\", []),\n",
    "        \"search_metadata\": {\n",
    "            \"timestamp\": datetime.now().isoformat(),\n",
    "            \"query\": query\n",
    "        }\n",
    "    }\n",
    "    \n",
    "    return formatted_results"
   ]
  },
  {
   "cell_type": "markdown",
   "id": "df844b3b",
   "metadata": {},
   "source": [
    "### Agent"
   ]
  },
  {
   "cell_type": "code",
   "execution_count": 9,
   "id": "31c56281",
   "metadata": {},
   "outputs": [],
   "source": [
    "# TODO: Create your Agent abstraction using StateMachine\n",
    "# Equip with an appropriate model\n",
    "# Craft a good set of instructions \n",
    "# Plug all Tools you developed\n",
    "\n",
    "\n",
    "agent_instructions = (\n",
    "    \"You are UdaPlay, an AI research assistant focused on video games.\\n\"\n",
    "    \"Use the available tools to answer questions with verified information.\\n\"\n",
    "    \"1. Call `retrieve_game` to search internal knowledge.\\n\"\n",
    "    \"2. Always call `evaluate_retrieval` with the user's question and the retrieved documents.\\n\"\n",
    "    \"3. If the evaluation result indicates the documents are not useful, call `game_web_search`.\\n\"\n",
    "    \"4. Combine information from all useful sources, cite them, and provide a confidence score between 0 and 1.\\n\"\n",
    "    \"5. Present the final answer in a clear, natural format.\"\n",
    ")\n",
    "\n",
    "udaplay_agent = Agent(\n",
    "    model_name=\"gpt-4o-mini\",\n",
    "    instructions=agent_instructions,\n",
    "    tools=[retrieve_game, evaluate_retrieval, game_web_search],\n",
    "    temperature=0.3,\n",
    ")\n"
   ]
  },
  {
   "cell_type": "code",
   "execution_count": 10,
   "id": "0ec23893",
   "metadata": {},
   "outputs": [],
   "source": [
    "# TODO: Invoke your agent\n",
    "# - When Pokémon Gold and Silver was released?\n",
    "# - Which one was the first 3D platformer Mario game?\n",
    "# - Was Mortal Kombat X realeased for Playstation 5?\n",
    "def print_messages(messages: List[BaseMessage]):\n",
    "    for m in messages:\n",
    "        print(f\" -> (role = {m.role}, content = {m.content}, tool_calls = {getattr(m, 'tool_calls', None)})\")"
   ]
  },
  {
   "cell_type": "code",
   "execution_count": 11,
   "id": "841847d7-3c7f-4bbf-a5bb-40e5069e8228",
   "metadata": {},
   "outputs": [
    {
     "name": "stdout",
     "output_type": "stream",
     "text": [
      "[StateMachine] Starting: __entry__\n",
      "[StateMachine] Executing step: message_prep\n",
      "[StateMachine] Executing step: llm_processor\n",
      "[StateMachine] Starting: __entry__\n"
     ]
    },
    {
     "name": "stderr",
     "output_type": "stream",
     "text": [
      "Failed to send telemetry event CollectionQueryEvent: capture() takes 1 positional argument but 3 were given\n"
     ]
    },
    {
     "name": "stdout",
     "output_type": "stream",
     "text": [
      "[StateMachine] Executing step: retrieve\n",
      "[StateMachine] Executing step: augment\n",
      "[StateMachine] Executing step: generate\n",
      "[StateMachine] Terminating: __termination__\n",
      "[StateMachine] Executing step: tool_executor\n",
      "[StateMachine] Executing step: llm_processor\n",
      "[StateMachine] Executing step: tool_executor\n",
      "[StateMachine] Executing step: llm_processor\n",
      "[StateMachine] Terminating: __termination__\n",
      " -> (role = system, content = You are UdaPlay, an AI research assistant focused on video games.\n",
      "Use the available tools to answer questions with verified information.\n",
      "1. Call `retrieve_game` to search internal knowledge.\n",
      "2. Always call `evaluate_retrieval` with the user's question and the retrieved documents.\n",
      "3. If the evaluation result indicates the documents are not useful, call `game_web_search`.\n",
      "4. Combine information from all useful sources, cite them, and provide a confidence score between 0 and 1.\n",
      "5. Present the final answer in a clear, natural format., tool_calls = None)\n",
      " -> (role = user, content = When Pokémon Gold and Silver was released?, tool_calls = None)\n",
      " -> (role = assistant, content = None, tool_calls = [ChatCompletionMessageToolCall(id='call_hGh41zKWarqHTs2trFIpjsuJ', function=Function(arguments='{\"query\":\"Pokémon Gold and Silver release date\"}', name='retrieve_game'), type='function')])\n",
      " -> (role = tool, content = \"Pok\\u00e9mon Gold and Silver were released in 1999.\", tool_calls = None)\n",
      " -> (role = assistant, content = None, tool_calls = [ChatCompletionMessageToolCall(id='call_mXBnISgqmxfHued8MqRwrPeM', function=Function(arguments='{\"question\":\"When Pokémon Gold and Silver was released?\",\"retrieved_docs\":[\"Pokémon Gold and Silver were released in 1999.\"]}', name='evaluate_retrieval'), type='function')])\n",
      " -> (role = tool, content = \"useful=True description='The document provides a clear and direct answer to the question regarding the release date of Pok\\u00e9mon Gold and Silver. It states that the games were released in 1999, which is accurate and sufficient to respond to the query. There are no additional details required to understand the release date, making the document useful for answering the question.'\", tool_calls = None)\n",
      " -> (role = assistant, content = Pokémon Gold and Silver were released in 1999. This information is accurate and directly answers your question. Confidence score: 1.0., tool_calls = None)\n"
     ]
    }
   ],
   "source": [
    "run1 = udaplay_agent.invoke(\"When Pokémon Gold and Silver was released?\", session_id=\"run1\")\n",
    "messages = run1.get_final_state()[\"messages\"]\n",
    "print_messages(messages)"
   ]
  },
  {
   "cell_type": "code",
   "execution_count": 12,
   "id": "f4a92c4b-1dea-4f27-9ba1-f3c2fd12a0c7",
   "metadata": {},
   "outputs": [
    {
     "name": "stdout",
     "output_type": "stream",
     "text": [
      "[StateMachine] Starting: __entry__\n",
      "[StateMachine] Executing step: message_prep\n",
      "[StateMachine] Executing step: llm_processor\n",
      "[StateMachine] Starting: __entry__\n",
      "[StateMachine] Executing step: retrieve\n",
      "[StateMachine] Executing step: augment\n",
      "[StateMachine] Executing step: generate\n",
      "[StateMachine] Terminating: __termination__\n",
      "[StateMachine] Executing step: tool_executor\n",
      "[StateMachine] Executing step: llm_processor\n",
      "[StateMachine] Executing step: tool_executor\n",
      "[StateMachine] Executing step: llm_processor\n",
      "[StateMachine] Terminating: __termination__\n",
      " -> (role = system, content = You are UdaPlay, an AI research assistant focused on video games.\n",
      "Use the available tools to answer questions with verified information.\n",
      "1. Call `retrieve_game` to search internal knowledge.\n",
      "2. Always call `evaluate_retrieval` with the user's question and the retrieved documents.\n",
      "3. If the evaluation result indicates the documents are not useful, call `game_web_search`.\n",
      "4. Combine information from all useful sources, cite them, and provide a confidence score between 0 and 1.\n",
      "5. Present the final answer in a clear, natural format., tool_calls = None)\n",
      " -> (role = user, content = Which one was the first 3D platformer Mario game?, tool_calls = None)\n",
      " -> (role = assistant, content = None, tool_calls = [ChatCompletionMessageToolCall(id='call_OehaUEp6wu7PkfdRQ1LJGWpf', function=Function(arguments='{\"query\":\"first 3D platformer Mario game\"}', name='retrieve_game'), type='function')])\n",
      " -> (role = tool, content = \"The first 3D platformer Mario game is Super Mario 64, released in 1996 for the Nintendo 64.\", tool_calls = None)\n",
      " -> (role = assistant, content = None, tool_calls = [ChatCompletionMessageToolCall(id='call_WSErgR7d5u5jYEpbu89aEt2Z', function=Function(arguments='{\"question\":\"Which one was the first 3D platformer Mario game?\",\"retrieved_docs\":[\"The first 3D platformer Mario game is Super Mario 64, released in 1996 for the Nintendo 64.\"]}', name='evaluate_retrieval'), type='function')])\n",
      " -> (role = tool, content = \"useful=True description=\\\"The document provides a clear and direct answer to the question by stating that 'Super Mario 64' is the first 3D platformer Mario game and includes the release year (1996) and the platform (Nintendo 64). This information is sufficient to respond to the query accurately.\\\"\", tool_calls = None)\n",
      " -> (role = assistant, content = The first 3D platformer Mario game is **Super Mario 64**, which was released in 1996 for the Nintendo 64. This game marked a significant evolution in the Mario franchise, transitioning from 2D to 3D gameplay. \n",
      "\n",
      "Confidence score: 1.0, tool_calls = None)\n"
     ]
    }
   ],
   "source": [
    "run2 = udaplay_agent.invoke(\"Which one was the first 3D platformer Mario game?\", session_id=\"run2\")\n",
    "messages = run2.get_final_state()[\"messages\"]\n",
    "print_messages(messages)"
   ]
  },
  {
   "cell_type": "code",
   "execution_count": 13,
   "id": "081fda3e-5889-4edf-97fc-7da486f90051",
   "metadata": {},
   "outputs": [
    {
     "name": "stdout",
     "output_type": "stream",
     "text": [
      "[StateMachine] Starting: __entry__\n",
      "[StateMachine] Executing step: message_prep\n",
      "[StateMachine] Executing step: llm_processor\n",
      "[StateMachine] Starting: __entry__\n",
      "[StateMachine] Executing step: retrieve\n",
      "[StateMachine] Executing step: augment\n",
      "[StateMachine] Executing step: generate\n",
      "[StateMachine] Terminating: __termination__\n",
      "[StateMachine] Executing step: tool_executor\n",
      "[StateMachine] Executing step: llm_processor\n",
      "[StateMachine] Executing step: tool_executor\n",
      "[StateMachine] Executing step: llm_processor\n",
      "[StateMachine] Terminating: __termination__\n",
      " -> (role = system, content = You are UdaPlay, an AI research assistant focused on video games.\n",
      "Use the available tools to answer questions with verified information.\n",
      "1. Call `retrieve_game` to search internal knowledge.\n",
      "2. Always call `evaluate_retrieval` with the user's question and the retrieved documents.\n",
      "3. If the evaluation result indicates the documents are not useful, call `game_web_search`.\n",
      "4. Combine information from all useful sources, cite them, and provide a confidence score between 0 and 1.\n",
      "5. Present the final answer in a clear, natural format., tool_calls = None)\n",
      " -> (role = user, content = Was Mortal Kombat X realeased for Playstation 5?, tool_calls = None)\n",
      " -> (role = assistant, content = None, tool_calls = [ChatCompletionMessageToolCall(id='call_ws7JvpX9rOOxTjYnw81WzgDD', function=Function(arguments='{\"query\":\"Mortal Kombat X release for Playstation 5\"}', name='retrieve_game'), type='function')])\n",
      " -> (role = tool, content = \"I don't know.\", tool_calls = None)\n",
      " -> (role = assistant, content = None, tool_calls = [ChatCompletionMessageToolCall(id='call_lsjUVbFCjnhqNU6og2IH8iOF', function=Function(arguments='{\"query\":\"Mortal Kombat X release for Playstation 5\"}', name='game_web_search'), type='function')])\n",
      " -> (role = tool, content = \"{'answer': 'Mortal Kombat X is playable on PS5, released in 2015, and may require system updates. Online features need a PlayStation account.', 'results': [{'url': 'https://www.playstation.com/en-us/games/mortal-kombat-x_msm_moved/', 'title': 'Mortal Kombat X', 'content': '### Report Review ### Report Review Report Review Only owners of this game can rate it. Rate;) Your Rating  ### No ratings and reviews. Be the first to rate! Be the first to add a rating and review ### Your review Your review   Post Review!;) Delete review? Although this game is playable on PS5, some features available on PS4 may be absent. Online features require an account and are subject to terms of service and applicable privacy policy (playstationnetwork.com/terms-of-service & playstationnetwork.com/privacy-policy). Software subject to license (us.playstation.com/softwarelicense). WB GAMES LOGO, WB SHIELD, NETHERREALM LOGO, MORTAL KOMBAT, THE DRAGON LOGO, and all related characters and elements are trademarks of and \\u00a9 Warner Bros. PlayStation Studios PlayStation Productions PS5 PS4 PlayStation Safety Age ratings Back to PlayStation Back to PlayStation.com.', 'score': 0.98523, 'raw_content': None}, {'url': 'https://en.wikipedia.org/wiki/Mortal_Kombat_X', 'title': 'Mortal Kombat X', 'content': 'Release. Mortal Kombat X was released worldwide (except Germany) for PC, PlayStation 4, and Xbox One on April 14, 2015. For reasons relating to the initial', 'score': 0.9822, 'raw_content': None}, {'url': 'https://www.reddit.com/r/MortalKombat/comments/15can50/mortal_kombat_x_on_ps5/', 'title': 'Mortal Kombat X on PS5? : r/MortalKombat', 'content': 'Happy 10th Anniversary to mortal kombat x video game, what did think about this game ?Image 77: r/MortalKombat icon r/MortalKombat\\u20222 mo. 444K Members Online    ### Happy 10th Anniversary to mortal kombat x video game, what did think about this game ? Image 80: r/MortalKombat - Happy 10th Anniversary to mortal kombat x video game, what did think about this game ? Image 84: r/MortalKombat - Why You Should Play Mortal Kombat 1.0:08    155 upvotes \\u00b718 comments    How well does this game run on PC and PS5?Image 88: r/kingdomcome icon r/kingdomcome\\u20222 yr. Best Fighting Games PS5 Best New PS5 Games Best Adventure Games PS5 Best PS5 Games on PC Best Anime Games PS5 Best PS5 Free Games Games  Other Games', 'score': 0.97801, 'raw_content': None}, {'url': 'https://mortalkombat.fandom.com/wiki/Mortal_Kombat_X', 'title': 'Mortal Kombat X', 'content': 'The current-generation console versions were released on April 14, 2015. Serving as both a follow-up and sequel to Mortal Kombat (2011), it follows the events', 'score': 0.97293, 'raw_content': None}, {'url': 'https://store.playstation.com/en-us/product/UP1018-CUSA00967_00-MORTALKOMBATX000', 'title': 'Mortal Kombat X', 'content': 'Mortal Kombat X Access Denied Access Denied You don\\\\'t have permission to access \\\" on this server. To play this game on PS5, your system may need to be updated to the latest system software. See PlayStation.com/bc for more details. Online features require an account and are subject to terms of service and applicable privacy policy (playstationnetwork.com/terms-of-service & playstationnetwork.com/privacy-policy). Software subject to license (us.playstation.com/softwarelicense). \\\\'MORTAL KOMBAT X software \\u00a9 2015 Warner Bros. Entertainment Inc. Developed by NetherRealm Studios. WB GAMES LOGO, WB SHIELD, NETHERREALM LOGO, MORTAL KOMBAT, THE DRAGON LOGO, and all related characters and elements are trademarks of and \\u00a9 Warner Bros. Entertainment Inc. PlayStation Studios PS Store Cancellation Policy Android App iOS App \\u00a9 2025 Sony Interactive Entertainment LLC', 'score': 0.96977, 'raw_content': None}], 'search_metadata': {'timestamp': '2025-08-25T19:40:16.645381', 'query': 'Mortal Kombat X release for Playstation 5'}}\", tool_calls = None)\n",
      " -> (role = assistant, content = Mortal Kombat X was originally released on April 14, 2015, for PlayStation 4, Xbox One, and PC. While it was not specifically released for PlayStation 5, the game is playable on PS5 through backward compatibility. However, some features available on the PS4 version may not be present on the PS5, and players may need to ensure their system is updated to the latest software for optimal performance. Online features require a PlayStation account and are subject to terms of service.\n",
      "\n",
      "Confidence score: 0.95, tool_calls = None)\n"
     ]
    }
   ],
   "source": [
    "run3 = udaplay_agent.invoke(\"Was Mortal Kombat X realeased for Playstation 5?\", session_id=\"run3\")\n",
    "messages = run3.get_final_state()[\"messages\"]\n",
    "print_messages(messages)"
   ]
  },
  {
   "cell_type": "markdown",
   "id": "f0a55081",
   "metadata": {},
   "source": [
    "### (Optional) Advanced"
   ]
  },
  {
   "cell_type": "code",
   "execution_count": 14,
   "id": "eb83fbb1",
   "metadata": {},
   "outputs": [],
   "source": [
    "# TODO: Update your agent with long-term memory\n",
    "# TODO: Convert the agent to be a state machine, with the tools being pre-defined nodes"
   ]
  }
 ],
 "metadata": {
  "kernelspec": {
   "display_name": "Python 3 (ipykernel)",
   "language": "python",
   "name": "python3"
  },
  "language_info": {
   "codemirror_mode": {
    "name": "ipython",
    "version": 3
   },
   "file_extension": ".py",
   "mimetype": "text/x-python",
   "name": "python",
   "nbconvert_exporter": "python",
   "pygments_lexer": "ipython3",
   "version": "3.11.5"
  }
 },
 "nbformat": 4,
 "nbformat_minor": 5
}
