{
 "cells": [
  {
   "cell_type": "markdown",
   "id": "6fdd0bcb",
   "metadata": {},
   "source": [
    "# [STARTER] Udaplay Project"
   ]
  },
  {
   "cell_type": "markdown",
   "id": "9325b035",
   "metadata": {},
   "source": [
    "## Part 02 - Agent\n",
    "\n",
    "In this part of the project, you'll use your VectorDB to be part of your Agent as a tool.\n",
    "\n",
    "You're building UdaPlay, an AI Research Agent for the video game industry. The agent will:\n",
    "1. Answer questions using internal knowledge (RAG)\n",
    "2. Search the web when needed\n",
    "3. Maintain conversation state\n",
    "4. Return structured outputs\n",
    "5. Store useful information for future use"
   ]
  },
  {
   "cell_type": "markdown",
   "id": "2b42de90",
   "metadata": {},
   "source": [
    "### Setup"
   ]
  },
  {
   "cell_type": "code",
   "execution_count": 1,
   "id": "a963d4ca",
   "metadata": {},
   "outputs": [
    {
     "data": {
      "text/plain": [
       "'\\nimport importlib.util\\nimport sys\\n\\n# Check if \\'pysqlite3\\' is available before importing\\nif importlib.util.find_spec(\"pysqlite3\") is not None:\\n    import pysqlite3\\n    sys.modules[\\'sqlite3\\'] = sys.modules.pop(\\'pysqlite3\\')\\n'"
      ]
     },
     "execution_count": 1,
     "metadata": {},
     "output_type": "execute_result"
    }
   ],
   "source": [
    "# Only needed for Udacity workspace\n",
    "\"\"\"\n",
    "import importlib.util\n",
    "import sys\n",
    "\n",
    "# Check if 'pysqlite3' is available before importing\n",
    "if importlib.util.find_spec(\"pysqlite3\") is not None:\n",
    "    import pysqlite3\n",
    "    sys.modules['sqlite3'] = sys.modules.pop('pysqlite3')\n",
    "\"\"\""
   ]
  },
  {
   "cell_type": "code",
   "execution_count": 2,
   "id": "fd10c06e",
   "metadata": {},
   "outputs": [],
   "source": [
    "# TODO: Import the necessary libs\n",
    "# For example: \n",
    "import os\n",
    "\n",
    "from lib.agents import Agent\n",
    "from lib.rag import RAG\n",
    "from lib.llm import LLM\n",
    "from lib.messages import UserMessage, SystemMessage, ToolMessage, AIMessage\n",
    "from lib.tooling import tool\n",
    "from dotenv import load_dotenv\n",
    "import chromadb\n",
    "from chromadb.utils import embedding_functions\n",
    "from lib.evaluation import TestCase, AgentEvaluator, EvaluationResult, EvaluationReport\n",
    "from typing import List, Dict\n",
    "from tavily import TavilyClient"
   ]
  },
  {
   "cell_type": "code",
   "execution_count": 3,
   "id": "87e465d4",
   "metadata": {},
   "outputs": [],
   "source": [
    "# TODO: Load environment variables\n",
    "load_dotenv()\n",
    "\n",
    "OPENAI_API_KEY = os.getenv(\"OPENAI_API_KEY\")\n",
    "TAVILY_API_KEY = os.getenv(\"TAVILY_API_KEY\")"
   ]
  },
  {
   "cell_type": "code",
   "execution_count": 4,
   "id": "08ee9ccc-e702-4b40-98fd-b42049fcf711",
   "metadata": {},
   "outputs": [],
   "source": [
    "rag_llm = LLM(\n",
    "    model=\"gpt-4o-mini\",\n",
    "    temperature=0.3,\n",
    ")"
   ]
  },
  {
   "cell_type": "markdown",
   "id": "27de4729",
   "metadata": {},
   "source": [
    "### Tools"
   ]
  },
  {
   "cell_type": "markdown",
   "id": "46ab2dac",
   "metadata": {},
   "source": [
    "Build at least 3 tools:\n",
    "- retrieve_game: To search the vector DB\n",
    "- evaluate_retrieval: To assess the retrieval performance\n",
    "- game_web_search: If no good, search the web\n"
   ]
  },
  {
   "cell_type": "markdown",
   "id": "ce4f14cd",
   "metadata": {},
   "source": [
    "#### Retrieve Game Tool"
   ]
  },
  {
   "cell_type": "code",
   "execution_count": 5,
   "id": "b25c36dd",
   "metadata": {},
   "outputs": [
    {
     "name": "stderr",
     "output_type": "stream",
     "text": [
      "Failed to send telemetry event ClientStartEvent: capture() takes 1 positional argument but 3 were given\n"
     ]
    }
   ],
   "source": [
    "# TODO: Create retrieve_game tool\n",
    "# It should use chroma client and collection you created\n",
    "chroma_client = chromadb.PersistentClient(path=\"chromadb\")\n",
    "\n",
    "embedding_fn = embedding_functions.OpenAIEmbeddingFunction(\n",
    "    api_key=OPENAI_API_KEY,\n",
    "    api_base=\"https://openai.vocareum.com/v1\")\n",
    "\n",
    "collection = chroma_client.get_collection(\"udaplay\", embedding_function=embedding_fn)\n",
    "# Tool Docstring:\n",
    "#    Semantic search: Finds most results in the vector DB\n",
    "#    args:\n",
    "#    - query: a question about game industry. \n",
    "#\n",
    "#    You'll receive results as list. Each element contains:\n",
    "#    - Platform: like Game Boy, Playstation 5, Xbox 360...)\n",
    "#    - Name: Name of the Game\n",
    "#    - YearOfRelease: Year when that game was released for that platform\n",
    "#    - Description: Additional details about the game\n",
    "\n",
    "retrieve_game_rag = RAG(\n",
    "    llm=rag_llm,\n",
    "    vector_store = collection\n",
    ")\n",
    "@tool\n",
    "def retrieve_game(query):\n",
    "    \"\"\"\n",
    "    Semantic search: Finds most results in the vector DB\n",
    "    args:\n",
    "    - query: a question about game industry. \n",
    "    \"\"\"\n",
    "    result:Run = retrieve_game_rag.invoke(query)\n",
    "    return result.get_final_state()[\"answer\"]"
   ]
  },
  {
   "cell_type": "markdown",
   "id": "910dc945",
   "metadata": {},
   "source": [
    "#### Evaluate Retrieval Tool"
   ]
  },
  {
   "cell_type": "code",
   "execution_count": 6,
   "id": "0d9d014b",
   "metadata": {},
   "outputs": [],
   "source": [
    "# TODO: Create evaluate_retrieval tool\n",
    "# You might use an LLM as judge in this tool to evaluate the performance\n",
    "# You need to prompt that LLM with something like:\n",
    "# \"Your task is to evaluate if the documents are enough to respond the query. \"\n",
    "# \"Give a detailed explanation, so it's possible to take an action to accept it or not.\"\n",
    "# Use EvaluationReport to parse the result\n",
    "# Tool Docstring:\n",
    "#    Based on the user's question and on the list of retrieved documents, \n",
    "#    it will analyze the usability of the documents to respond to that question. \n",
    "#    args: \n",
    "#    - question: original question from user\n",
    "#    - retrieved_docs: retrieved documents most similar to the user query in the Vector Database\n",
    "#    The result includes:\n",
    "#    - useful: whether the documents are useful to answer the question\n",
    "#    - description: description about the evaluation result\n",
    "\n",
    "@tool\n",
    "def evaluate_retrieval(question: str, retrieved_docs: List[str]) -> EvaluationReport:\n",
    "    \"\"\"\n",
    "    Based on the user's question and on the list of retrieved documents, \n",
    "    it will analyze the usability of the documents to respond to that question. \n",
    "    args: \n",
    "    - question: original question from user\n",
    "    - retrieved_docs: retrieved documents most similar to the user query in the Vector Database\n",
    "    The result includes:\n",
    "    - useful: whether the documents are useful to answer the question\n",
    "    - description: description about the evaluation result\n",
    "    \"\"\"\n",
    "    llm_judge = LLM(model=\"gpt-4o-mini\")\n",
    "    docs_text = \"\\n\\n\".join(retrieved_docs) if retrieved_docs else \"No documents provided.\"\n",
    "    prompt = (\n",
    "        \"Your task is to evaluate if the documents are enough to respond the query.\\n\"\n",
    "        f\"Question: {question}\\n\"\n",
    "        f\"Documents:\\n{docs_text}\\n\"\n",
    "        \"Give a detailed explanation, so it's possible to take an action to accept it or not.\"\n",
    "    )\n",
    "\n",
    "    response = llm_judge.invoke(prompt, response_format=EvaluationReport)\n",
    "    parser = PydanticOutputParser(model_class=EvaluationReport)\n",
    "    try:\n",
    "        report = parser.parse(response)\n",
    "    except Exception as e:\n",
    "        report = EvaluationReport(useful=False, description=f\"Failed to parse judge response: {e}\")\n",
    "    return report"
   ]
  },
  {
   "cell_type": "markdown",
   "id": "c7935a26",
   "metadata": {},
   "source": [
    "#### Game Web Search Tool"
   ]
  },
  {
   "cell_type": "code",
   "execution_count": 7,
   "id": "65dd1fe8-f8e7-4daa-8370-5641211c5e46",
   "metadata": {},
   "outputs": [
    {
     "data": {
      "text/plain": [
       "{'query': \"What's Nintendo?\",\n",
       " 'follow_up_questions': None,\n",
       " 'answer': None,\n",
       " 'images': [],\n",
       " 'results': [{'url': 'https://en.wikipedia.org/wiki/Nintendo',\n",
       "   'title': 'Nintendo - Wikipedia',\n",
       "   'content': '**Nintendo Co., Ltd.** is a Japanese multinational video game company headquartered in Kyoto. The history of Nintendo began when craftsman Fusajiro Yamauchi founded the company to produce handmade *hanafuda* playing cards. The company became internationally dominant in the 1980s after the arcade release of *Donkey Kong \"Donkey Kong (1981 video game)\")* (1981) and the Nintendo Entertainment System, which launched outside of Japan alongside *Super Mario Bros.* in 1985. Nintendo was founded as Nintendo Koppai on 23 September 1889 by craftsman Fusajiro Yamauchi in Shimogyō-ku, Kyoto, Japan, as an unincorporated establishment, to produce and distribute Japanese playing cards, or karuta (かるた; from Portuguese *carta*, \\'card\\'), most notably *hanafuda* (花札, \\'flower cards\\').',\n",
       "   'score': 0.9106172,\n",
       "   'raw_content': None},\n",
       "  {'url': 'https://www.nintendo.com/us/about/?srsltid=AfmBOopcO3NZKeRWG7NZdAckIlnLyGdfCB7j0qQ2eo9Aguj-menquk4p',\n",
       "   'title': 'about us - Nintendo',\n",
       "   'content': \"Nintendo's mission is to put smiles on the faces of everyone we touch. We do so by creating new surprises for people across the world to enjoy together.\",\n",
       "   'score': 0.5224708,\n",
       "   'raw_content': None},\n",
       "  {'url': 'https://www.nintendo.com/en-gb/Hardware/Nintendo-History/Nintendo-History-625945.html?srsltid=AfmBOoonEudasHSYvud4Ki6bIBFSaUf3FdqVy6s5QZfEmM6O7PNx5eHe',\n",
       "   'title': 'Nintendo History | Hardware',\n",
       "   'content': 'Nintendo Co., Ltd., headquartered in Kyoto, Japan, has created franchises that have become household names worldwide, including Mario™, Donkey Kong™,',\n",
       "   'score': 0.37772483,\n",
       "   'raw_content': None},\n",
       "  {'url': 'https://www.nintendo.com/us/whatsnew/?srsltid=AfmBOorzj7pRlKk742VOhNI1m-oojugfW6Y-XiiOejYPIc1hjGwrx1c0',\n",
       "   'title': 'News - Nintendo Official Site',\n",
       "   'content': \"Your first stop for Nintendo news and announcements. See what's new in the world of Nintendo, from site updates to game launches, deals, and more.\",\n",
       "   'score': 0.35066646,\n",
       "   'raw_content': None},\n",
       "  {'url': 'https://www.nintendo.com/us/?srsltid=AfmBOoooHhO9vjCz8jya_ZTs79Fng134ydPR1Oh3jadgJWpGApCjxu92',\n",
       "   'title': 'Nintendo - Official Site: Consoles, Games, News, and More',\n",
       "   'content': 'Visit the official Nintendo site to shop for Nintendo Switch™ systems and video games, read the latest news, find fun gear and gifts with a Nintendo twist,',\n",
       "   'score': 0.33672404,\n",
       "   'raw_content': None}],\n",
       " 'response_time': 1.5,\n",
       " 'request_id': 'e2ee566b-8ebb-4940-bea6-17d0c69e2559'}"
      ]
     },
     "execution_count": 7,
     "metadata": {},
     "output_type": "execute_result"
    }
   ],
   "source": [
    "client = TavilyClient(api_key=TAVILY_API_KEY)\n",
    "result = client.search(\"What's Nintendo?\")\n",
    "result"
   ]
  },
  {
   "cell_type": "code",
   "execution_count": 8,
   "id": "2ad698aa",
   "metadata": {},
   "outputs": [],
   "source": [
    "# TODO: Create game_web_search tool\n",
    "# Please use Tavily client to search the web\n",
    "# Tool Docstring:\n",
    "#    Semantic search: Finds most results in the vector DB\n",
    "#    args:\n",
    "#    - question: a question about game industry. \n",
    "\n",
    "@tool\n",
    "def game_web_search(query: str) -> Dict:\n",
    "    \"\"\"\n",
    "    Search the web using Tavily API\n",
    "    args:\n",
    "        query (str): Search query\n",
    "    \"\"\"\n",
    "    client = TavilyClient(api_key=TAVILY_API_KEY)\n",
    "    \n",
    "    # Perform the search\n",
    "    search_result = client.search(\n",
    "        query=query,\n",
    "        search_depth=search_depth,\n",
    "        include_answer=True,\n",
    "        include_raw_content=False,\n",
    "        include_images=False\n",
    "    )\n",
    "    \n",
    "    # Format the results\n",
    "    formatted_results = {\n",
    "        \"answer\": search_result.get(\"answer\", \"\"),\n",
    "        \"results\": search_result.get(\"results\", []),\n",
    "        \"search_metadata\": {\n",
    "            \"timestamp\": datetime.now().isoformat(),\n",
    "            \"query\": query\n",
    "        }\n",
    "    }\n",
    "    \n",
    "    return formatted_results"
   ]
  },
  {
   "cell_type": "markdown",
   "id": "df844b3b",
   "metadata": {},
   "source": [
    "### Agent"
   ]
  },
  {
   "cell_type": "code",
   "execution_count": 9,
   "id": "31c56281",
   "metadata": {},
   "outputs": [],
   "source": [
    "# TODO: Create your Agent abstraction using StateMachine\n",
    "# Equip with an appropriate model\n",
    "# Craft a good set of instructions \n",
    "# Plug all Tools you developed\n",
    "\n",
    "\n",
    "agent_instructions = (\n",
    "    \"You are UdaPlay, an AI research assistant focused on video games.\\n\"\n",
    "    \"Use the available tools to answer questions with verified information.\\n\"\n",
    "    \"1. Call `retrieve_game` to search internal knowledge.\\n\"\n",
    "    \"2. Always call `evaluate_retrieval` with the user's question and the retrieved documents.\\n\"\n",
    "    \"3. If the evaluation result indicates the documents are not useful, call `game_web_search`.\\n\"\n",
    "    \"4. Combine information from all useful sources, cite them, and provide a confidence score between 0 and 1.\\n\"\n",
    "    \"5. Present the final answer in a clear, natural format.\"\n",
    ")\n",
    "\n",
    "udaplay_agent = Agent(\n",
    "    model_name=\"gpt-4o-mini\",\n",
    "    instructions=agent_instructions,\n",
    "    tools=[retrieve_game, evaluate_retrieval, game_web_search],\n",
    "    temperature=0.3,\n",
    ")\n"
   ]
  },
  {
   "cell_type": "code",
   "execution_count": 10,
   "id": "0ec23893",
   "metadata": {},
   "outputs": [],
   "source": [
    "# TODO: Invoke your agent\n",
    "# - When Pokémon Gold and Silver was released?\n",
    "# - Which one was the first 3D platformer Mario game?\n",
    "# - Was Mortal Kombat X realeased for Playstation 5?"
   ]
  },
  {
   "cell_type": "code",
   "execution_count": 11,
   "id": "841847d7-3c7f-4bbf-a5bb-40e5069e8228",
   "metadata": {},
   "outputs": [
    {
     "name": "stdout",
     "output_type": "stream",
     "text": [
      "[StateMachine] Starting: __entry__\n",
      "[StateMachine] Executing step: message_prep\n",
      "[StateMachine] Executing step: llm_processor\n",
      "[StateMachine] Starting: __entry__\n"
     ]
    },
    {
     "name": "stderr",
     "output_type": "stream",
     "text": [
      "Failed to send telemetry event CollectionQueryEvent: capture() takes 1 positional argument but 3 were given\n"
     ]
    },
    {
     "name": "stdout",
     "output_type": "stream",
     "text": [
      "[StateMachine] Executing step: retrieve\n",
      "[StateMachine] Executing step: augment\n",
      "[StateMachine] Executing step: generate\n",
      "[StateMachine] Terminating: __termination__\n",
      "[StateMachine] Executing step: tool_executor\n",
      "[StateMachine] Executing step: llm_processor\n"
     ]
    },
    {
     "ename": "NameError",
     "evalue": "name 'PydanticOutputParser' is not defined",
     "output_type": "error",
     "traceback": [
      "\u001b[31m---------------------------------------------------------------------------\u001b[39m",
      "\u001b[31mNameError\u001b[39m                                 Traceback (most recent call last)",
      "\u001b[36mCell\u001b[39m\u001b[36m \u001b[39m\u001b[32mIn[11]\u001b[39m\u001b[32m, line 1\u001b[39m\n\u001b[32m----> \u001b[39m\u001b[32m1\u001b[39m \u001b[43mudaplay_agent\u001b[49m\u001b[43m.\u001b[49m\u001b[43minvoke\u001b[49m\u001b[43m(\u001b[49m\u001b[33;43m\"\u001b[39;49m\u001b[33;43mWhen Pokémon Gold and Silver was released?\u001b[39;49m\u001b[33;43m\"\u001b[39;49m\u001b[43m)\u001b[49m\n",
      "\u001b[36mFile \u001b[39m\u001b[32m~/Documents/Udacity/AgenticAI/3-BuildingAgents/project/starter/lib/agents.py:176\u001b[39m, in \u001b[36mAgent.invoke\u001b[39m\u001b[34m(self, query, session_id)\u001b[39m\n\u001b[32m    166\u001b[39m         previous_messages = last_state[\u001b[33m\"\u001b[39m\u001b[33mmessages\u001b[39m\u001b[33m\"\u001b[39m]\n\u001b[32m    168\u001b[39m initial_state: AgentState = {\n\u001b[32m    169\u001b[39m     \u001b[33m\"\u001b[39m\u001b[33muser_query\u001b[39m\u001b[33m\"\u001b[39m: query,\n\u001b[32m    170\u001b[39m     \u001b[33m\"\u001b[39m\u001b[33minstructions\u001b[39m\u001b[33m\"\u001b[39m: \u001b[38;5;28mself\u001b[39m.instructions,\n\u001b[32m   (...)\u001b[39m\u001b[32m    173\u001b[39m     \u001b[33m\"\u001b[39m\u001b[33msession_id\u001b[39m\u001b[33m\"\u001b[39m: session_id,\n\u001b[32m    174\u001b[39m }\n\u001b[32m--> \u001b[39m\u001b[32m176\u001b[39m run_object = \u001b[38;5;28;43mself\u001b[39;49m\u001b[43m.\u001b[49m\u001b[43mworkflow\u001b[49m\u001b[43m.\u001b[49m\u001b[43mrun\u001b[49m\u001b[43m(\u001b[49m\u001b[43minitial_state\u001b[49m\u001b[43m)\u001b[49m\n\u001b[32m    178\u001b[39m \u001b[38;5;66;03m# Store the complete run object in memory\u001b[39;00m\n\u001b[32m    179\u001b[39m \u001b[38;5;28mself\u001b[39m.memory.add(run_object, session_id)\n",
      "\u001b[36mFile \u001b[39m\u001b[32m~/Documents/Udacity/AgenticAI/3-BuildingAgents/project/starter/lib/state_machine.py:231\u001b[39m, in \u001b[36mStateMachine.run\u001b[39m\u001b[34m(self, state, resource)\u001b[39m\n\u001b[32m    228\u001b[39m     \u001b[38;5;28;01mbreak\u001b[39;00m\n\u001b[32m    230\u001b[39m \u001b[38;5;66;03m# Replace state entirely\u001b[39;00m\n\u001b[32m--> \u001b[39m\u001b[32m231\u001b[39m state = \u001b[43mstep\u001b[49m\u001b[43m.\u001b[49m\u001b[43mrun\u001b[49m\u001b[43m(\u001b[49m\u001b[43mstate\u001b[49m\u001b[43m,\u001b[49m\u001b[43m \u001b[49m\u001b[38;5;28;43mself\u001b[39;49m\u001b[43m.\u001b[49m\u001b[43mstate_schema\u001b[49m\u001b[43m,\u001b[49m\u001b[43m \u001b[49m\u001b[43mresource\u001b[49m\u001b[43m)\u001b[49m  \n\u001b[32m    233\u001b[39m \u001b[38;5;28;01mif\u001b[39;00m \u001b[38;5;28misinstance\u001b[39m(step, EntryPoint):\n\u001b[32m    234\u001b[39m     \u001b[38;5;28mprint\u001b[39m(\u001b[33mf\u001b[39m\u001b[33m\"\u001b[39m\u001b[33m[StateMachine] Starting: \u001b[39m\u001b[38;5;132;01m{\u001b[39;00mcurrent_step_id\u001b[38;5;132;01m}\u001b[39;00m\u001b[33m\"\u001b[39m)\n",
      "\u001b[36mFile \u001b[39m\u001b[32m~/Documents/Udacity/AgenticAI/3-BuildingAgents/project/starter/lib/state_machine.py:40\u001b[39m, in \u001b[36mStep.run\u001b[39m\u001b[34m(self, state, state_schema, resource)\u001b[39m\n\u001b[32m     37\u001b[39m \u001b[38;5;28;01mdef\u001b[39;00m\u001b[38;5;250m \u001b[39m\u001b[34mrun\u001b[39m(\u001b[38;5;28mself\u001b[39m, state: StateSchema, state_schema: Type[StateSchema], resource: Resource=\u001b[38;5;28;01mNone\u001b[39;00m) -> StateSchema:\n\u001b[32m     38\u001b[39m     \u001b[38;5;66;03m# Call logic function with appropriate number of arguments\u001b[39;00m\n\u001b[32m     39\u001b[39m     \u001b[38;5;28;01mif\u001b[39;00m \u001b[38;5;28mself\u001b[39m.logic_params_count == \u001b[32m1\u001b[39m:\n\u001b[32m---> \u001b[39m\u001b[32m40\u001b[39m         result = \u001b[38;5;28;43mself\u001b[39;49m\u001b[43m.\u001b[49m\u001b[43mlogic\u001b[49m\u001b[43m(\u001b[49m\u001b[43mstate\u001b[49m\u001b[43m)\u001b[49m\n\u001b[32m     41\u001b[39m     \u001b[38;5;28;01melif\u001b[39;00m \u001b[38;5;28mself\u001b[39m.logic_params_count == \u001b[32m2\u001b[39m:\n\u001b[32m     42\u001b[39m         result = \u001b[38;5;28mself\u001b[39m.logic(state, resource)\n",
      "\u001b[36mFile \u001b[39m\u001b[32m~/Documents/Udacity/AgenticAI/3-BuildingAgents/project/starter/lib/agents.py:100\u001b[39m, in \u001b[36mAgent._tool_step\u001b[39m\u001b[34m(self, state)\u001b[39m\n\u001b[32m     98\u001b[39m tool = \u001b[38;5;28mnext\u001b[39m((t \u001b[38;5;28;01mfor\u001b[39;00m t \u001b[38;5;129;01min\u001b[39;00m \u001b[38;5;28mself\u001b[39m.tools \u001b[38;5;28;01mif\u001b[39;00m t.name == function_name), \u001b[38;5;28;01mNone\u001b[39;00m)\n\u001b[32m     99\u001b[39m \u001b[38;5;28;01mif\u001b[39;00m tool:\n\u001b[32m--> \u001b[39m\u001b[32m100\u001b[39m     result = \u001b[38;5;28mstr\u001b[39m(\u001b[43mtool\u001b[49m\u001b[43m(\u001b[49m\u001b[43m*\u001b[49m\u001b[43m*\u001b[49m\u001b[43mfunction_args\u001b[49m\u001b[43m)\u001b[49m)\n\u001b[32m    101\u001b[39m     tool_message = ToolMessage(\n\u001b[32m    102\u001b[39m         content=json.dumps(result), \n\u001b[32m    103\u001b[39m         tool_call_id=tool_call_id, \n\u001b[32m    104\u001b[39m         name=function_name, \n\u001b[32m    105\u001b[39m     )\n\u001b[32m    106\u001b[39m     tool_messages.append(tool_message)\n",
      "\u001b[36mFile \u001b[39m\u001b[32m~/Documents/Udacity/AgenticAI/3-BuildingAgents/project/starter/lib/tooling.py:106\u001b[39m, in \u001b[36mTool.__call__\u001b[39m\u001b[34m(self, *args, **kwargs)\u001b[39m\n\u001b[32m    105\u001b[39m \u001b[38;5;28;01mdef\u001b[39;00m\u001b[38;5;250m \u001b[39m\u001b[34m__call__\u001b[39m(\u001b[38;5;28mself\u001b[39m, *args, **kwargs):\n\u001b[32m--> \u001b[39m\u001b[32m106\u001b[39m     \u001b[38;5;28;01mreturn\u001b[39;00m \u001b[38;5;28;43mself\u001b[39;49m\u001b[43m.\u001b[49m\u001b[43mfunc\u001b[49m\u001b[43m(\u001b[49m\u001b[43m*\u001b[49m\u001b[43margs\u001b[49m\u001b[43m,\u001b[49m\u001b[43m \u001b[49m\u001b[43m*\u001b[49m\u001b[43m*\u001b[49m\u001b[43mkwargs\u001b[49m\u001b[43m)\u001b[49m\n",
      "\u001b[36mCell\u001b[39m\u001b[36m \u001b[39m\u001b[32mIn[6]\u001b[39m\u001b[32m, line 39\u001b[39m, in \u001b[36mevaluate_retrieval\u001b[39m\u001b[34m(question, retrieved_docs)\u001b[39m\n\u001b[32m     31\u001b[39m prompt = (\n\u001b[32m     32\u001b[39m     \u001b[33m\"\u001b[39m\u001b[33mYour task is to evaluate if the documents are enough to respond the query.\u001b[39m\u001b[38;5;130;01m\\n\u001b[39;00m\u001b[33m\"\u001b[39m\n\u001b[32m     33\u001b[39m     \u001b[33mf\u001b[39m\u001b[33m\"\u001b[39m\u001b[33mQuestion: \u001b[39m\u001b[38;5;132;01m{\u001b[39;00mquestion\u001b[38;5;132;01m}\u001b[39;00m\u001b[38;5;130;01m\\n\u001b[39;00m\u001b[33m\"\u001b[39m\n\u001b[32m     34\u001b[39m     \u001b[33mf\u001b[39m\u001b[33m\"\u001b[39m\u001b[33mDocuments:\u001b[39m\u001b[38;5;130;01m\\n\u001b[39;00m\u001b[38;5;132;01m{\u001b[39;00mdocs_text\u001b[38;5;132;01m}\u001b[39;00m\u001b[38;5;130;01m\\n\u001b[39;00m\u001b[33m\"\u001b[39m\n\u001b[32m     35\u001b[39m     \u001b[33m\"\u001b[39m\u001b[33mGive a detailed explanation, so it\u001b[39m\u001b[33m'\u001b[39m\u001b[33ms possible to take an action to accept it or not.\u001b[39m\u001b[33m\"\u001b[39m\n\u001b[32m     36\u001b[39m )\n\u001b[32m     38\u001b[39m response = llm_judge.invoke(prompt, response_format=EvaluationReport)\n\u001b[32m---> \u001b[39m\u001b[32m39\u001b[39m parser = \u001b[43mPydanticOutputParser\u001b[49m(model_class=EvaluationReport)\n\u001b[32m     40\u001b[39m \u001b[38;5;28;01mtry\u001b[39;00m:\n\u001b[32m     41\u001b[39m     report = parser.parse(response)\n",
      "\u001b[31mNameError\u001b[39m: name 'PydanticOutputParser' is not defined"
     ]
    }
   ],
   "source": [
    "udaplay_agent.invoke(\"When Pokémon Gold and Silver was released?\")"
   ]
  },
  {
   "cell_type": "code",
   "execution_count": null,
   "id": "f4a92c4b-1dea-4f27-9ba1-f3c2fd12a0c7",
   "metadata": {},
   "outputs": [],
   "source": [
    "udaplay_agent.invoke(\"Which one was the first 3D platformer Mario game?\")"
   ]
  },
  {
   "cell_type": "code",
   "execution_count": null,
   "id": "081fda3e-5889-4edf-97fc-7da486f90051",
   "metadata": {},
   "outputs": [],
   "source": [
    "udaplay_agent.invoke(\"Was Mortal Kombat X realeased for Playstation 5?\")"
   ]
  },
  {
   "cell_type": "markdown",
   "id": "f0a55081",
   "metadata": {},
   "source": [
    "### (Optional) Advanced"
   ]
  },
  {
   "cell_type": "code",
   "execution_count": null,
   "id": "eb83fbb1",
   "metadata": {},
   "outputs": [],
   "source": [
    "# TODO: Update your agent with long-term memory\n",
    "# TODO: Convert the agent to be a state machine, with the tools being pre-defined nodes"
   ]
  }
 ],
 "metadata": {
  "kernelspec": {
   "display_name": "Python 3 (ipykernel)",
   "language": "python",
   "name": "python3"
  },
  "language_info": {
   "codemirror_mode": {
    "name": "ipython",
    "version": 3
   },
   "file_extension": ".py",
   "mimetype": "text/x-python",
   "name": "python",
   "nbconvert_exporter": "python",
   "pygments_lexer": "ipython3",
   "version": "3.11.5"
  }
 },
 "nbformat": 4,
 "nbformat_minor": 5
}
